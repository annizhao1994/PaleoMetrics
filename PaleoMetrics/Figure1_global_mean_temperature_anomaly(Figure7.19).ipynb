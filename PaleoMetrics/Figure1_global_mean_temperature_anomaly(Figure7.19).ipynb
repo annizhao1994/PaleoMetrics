{
 "cells": [
  {
   "cell_type": "code",
   "execution_count": 1,
   "id": "27ed6ac0",
   "metadata": {},
   "outputs": [],
   "source": [
    "import matplotlib.pyplot as plt\n",
    "import numpy as np\n",
    "import pandas as pd\n",
    "import matplotlib\n",
    "from matplotlib import gridspec\n",
    "import matplotlib.colors as colors"
   ]
  },
  {
   "cell_type": "code",
   "execution_count": 2,
   "id": "3dc4b5f3",
   "metadata": {},
   "outputs": [],
   "source": [
    "# Define colors\n",
    "color_information = pd.read_csv('color_information.csv',skipinitialspace=True,header=0)\n",
    "def model_color(model,kind): # kind ncl or py\n",
    "    if kind == 'ncl':\n",
    "        r = color_information[model][0]\n",
    "        g = color_information[model][1]\n",
    "        b = color_information[model][2]\n",
    "    if kind == 'py':\n",
    "        r = color_information[model][3]\n",
    "        g = color_information[model][4]\n",
    "        b = color_information[model][5]\n",
    "    color = [r,g,b]\n",
    "    return color"
   ]
  },
  {
   "cell_type": "code",
   "execution_count": 75,
   "id": "ea3b0406",
   "metadata": {},
   "outputs": [],
   "source": [
    "# observations\n",
    "# I need to check these numbers\n",
    "obs_historical=[0.7,0.9,1.1]\n",
    "obs_mh = [0.3,0.5,0.9]\n",
    "obs_lgm=[5,6,7]# PI - LGM\n",
    "obs_lig=[0.5,1,1.5]\n",
    "obs_mpwp=[2.5,3.25,4]\n",
    "obs_eeco=[10,14,18]\n",
    "def plotting_obs(obs):\n",
    "    plt.errorbar([0.5],[obs[1]], yerr=[[obs[1]-obs[0]],[obs[2]-obs[1]]],marker='o',color='k',ms=12)"
   ]
  },
  {
   "cell_type": "code",
   "execution_count": 3,
   "id": "6231af84",
   "metadata": {},
   "outputs": [],
   "source": [
    "# information about periods and generations are available in sheet \"Summary\" in excel file \"Figure 1.xlsx\"\n",
    "# I need to check ECS numbers \n",
    "def load_data(period,generation):\n",
    "    f = pd.read_csv('csvfiles/%s_%s.csv'%(period,generation),header=0)\n",
    "    dT = f['dT']\n",
    "    model = f['models']\n",
    "    ecs = f['ECS']\n",
    "    DATA = {}\n",
    "    for i in range(len(dT)):\n",
    "        DATA[model[i]] = [ecs[i],dT[i]]\n",
    "    return model, DATA\n",
    "        "
   ]
  },
  {
   "cell_type": "code",
   "execution_count": null,
   "id": "5d8a43e3",
   "metadata": {},
   "outputs": [],
   "source": [
    "# Periods & generations:\n",
    "# historical : CMIP6 CMIP5\n",
    "# MH : PMIP4 PMIP3\n",
    "# LGM : PMIP4 PMIP3\n",
    "# LIG : PMIP4\n",
    "# MPWP : PlioMIP1 PlioMIP2\n",
    "# EECO : DeepMIP"
   ]
  },
  {
   "cell_type": "code",
   "execution_count": 8,
   "id": "d556dcfa",
   "metadata": {},
   "outputs": [],
   "source": [
    "def plotting_dt(period,generation,loc):\n",
    "    model,data = load_data(period,generation)\n",
    "    for m in model:\n",
    "        #plt.plot(loc,data[m][1],marker=marker,color=model_color(m,'py'),fillstyle='none',mew=3, ms=10,linestyle='None')\n",
    "        plt.plot(loc,data[m][1],marker='o',color='b',alpha=0.5,mew=1, ms=7,linestyle='None')\n",
    "\n",
    "\n",
    "\n",
    "    "
   ]
  },
  {
   "cell_type": "code",
   "execution_count": 76,
   "id": "c1621d2e",
   "metadata": {},
   "outputs": [
    {
     "data": {
      "text/plain": [
       "(array([-5.,  0.,  5., 10., 15., 20., 25.]),\n",
       " [Text(0, 0, ''),\n",
       "  Text(0, 0, ''),\n",
       "  Text(0, 0, ''),\n",
       "  Text(0, 0, ''),\n",
       "  Text(0, 0, ''),\n",
       "  Text(0, 0, ''),\n",
       "  Text(0, 0, '')])"
      ]
     },
     "execution_count": 76,
     "metadata": {},
     "output_type": "execute_result"
    },
    {
     "data": {
      "image/png": "[encoded data removed]",
      "text/plain": [
       "<Figure size 1080x360 with 6 Axes>"
      ]
     },
     "metadata": {
      "needs_background": "light"
     },
     "output_type": "display_data"
    }
   ],
   "source": [
    "# loc: 0.5 for obs, 1.5 for PMIP3, 2.5 for PMIP4\n",
    "# marker: \"s\" for PMIP3, \"o\" for PMIP4\n",
    "plt.figure(figsize=(15,5))\n",
    "gs = gridspec.GridSpec(1, 12, width_ratios=[1,6,1,6,1,6,1,6,1,6,1,6]) \n",
    "# historical\n",
    "plt.subplot(gs[1])\n",
    "plt.xlim([0,3])\n",
    "plt.ylim([-5,25])\n",
    "plt.title('historical',fontsize=12)\n",
    "plotting_obs(obs_historical)\n",
    "plotting_dt('CMIP5','historical',1.5)\n",
    "plotting_dt('CMIP6','historical',2.5)\n",
    "plt.xticks([0.5,1.5,2.5],['obs','CMIP5','CMIP6'],fontsize=12,rotation=90)\n",
    "plt.yticks(fontsize=12)\n",
    "plt.ylabel('temperature anomaly (%sC)'%(chr(176)))\n",
    "\n",
    "#LIG\n",
    "plt.subplot(gs[3])\n",
    "plt.xlim([0,3])\n",
    "plt.ylim([-5,25])\n",
    "plt.title('MH',fontsize=12)\n",
    "plotting_obs(obs_mh)\n",
    "plotting_dt('PMIP3','MH',1.5)\n",
    "plotting_dt('PMIP4','MH',2.5)\n",
    "plt.xticks([0.5,1.5,2.5],['obs','PMIP3','PMIP4'],fontsize=12,rotation=90)\n",
    "plt.yticks(fontsize=12)\n",
    "\n",
    "#LGM\n",
    "plt.subplot(gs[5])\n",
    "plt.xlim([0,3])\n",
    "plt.ylim([-5,25])\n",
    "plt.title('PI - LGM',fontsize=12)\n",
    "plotting_obs(obs_lgm)\n",
    "plotting_dt('PMIP3','LGM',1.5)\n",
    "plotting_dt('PMIP4','LGM',2.5)\n",
    "plt.xticks([0.5,1.5,2.5],['obs','PMIP3','PMIP4'],fontsize=12,rotation=90)\n",
    "plt.yticks(fontsize=12)\n",
    "\n",
    "#LIG\n",
    "plt.subplot(gs[7])\n",
    "plt.xlim([0,3])\n",
    "plt.ylim([-5,25])\n",
    "plt.title('LIG',fontsize=12)\n",
    "plotting_obs(obs_lig)\n",
    "plotting_dt('PMIP4','LIG',2.5)\n",
    "plt.xticks([0.5,1.5,2.5],['obs','','PMIP4'],fontsize=12,rotation=90)\n",
    "plt.yticks(fontsize=12)\n",
    "\n",
    "#mPWP\n",
    "plt.subplot(gs[9])\n",
    "plt.xlim([0,3])\n",
    "plt.ylim([-5,25])\n",
    "plt.title('mPWP',fontsize=12)\n",
    "plotting_obs(obs_mpwp)\n",
    "plotting_dt('PlioMIP1','mPWP',1.5)\n",
    "plotting_dt('PlioMIP2','mPWP',2.5)\n",
    "plt.xticks([0.5,1.5,2.5],['obs','PlioMIP1','PlioMIP2'],fontsize=12,rotation=90)\n",
    "plt.yticks(fontsize=12)\n",
    "\n",
    "\n",
    "#LIG\n",
    "plt.subplot(gs[11])\n",
    "plt.xlim([0,3])\n",
    "plt.ylim([-5,25])\n",
    "plt.title('EECO',fontsize=12)\n",
    "plotting_obs(obs_eeco)\n",
    "plotting_dt('DeepMIP','EECO',2.5)\n",
    "plt.xticks([0.5,1.5,2.5],['obs','','DeepMIP'],fontsize=12,rotation=90)\n",
    "plt.yticks(fontsize=12)"
   ]
  },
  {
   "cell_type": "code",
   "execution_count": null,
   "id": "2ba15866",
   "metadata": {},
   "outputs": [],
   "source": [
    "# Use fixed y axis \n",
    "# give a idea about how warm the periods were\n",
    "# BUT lose infolation during historical, MH and LIG"
   ]
  },
  {
   "cell_type": "code",
   "execution_count": null,
   "id": "b3dca524",
   "metadata": {},
   "outputs": [],
   "source": []
  },
  {
   "cell_type": "code",
   "execution_count": 11,
   "id": "ffd12058",
   "metadata": {},
   "outputs": [],
   "source": [
    "# Use MH as an example to plot different information\n",
    "model_pmip4_mh,data_pmip4_mh = load_data('PMIP4','MH')\n",
    "model_pmip3_mh,data_pmip3_mh = load_data('PMIP3','MH')\n",
    "   \n",
    "obs_mh = [0.3,0.5,0.9] # min, ave, max , 80%CI\n"
   ]
  },
  {
   "cell_type": "code",
   "execution_count": null,
   "id": "ffd5ffb9",
   "metadata": {},
   "outputs": [],
   "source": []
  },
  {
   "cell_type": "code",
   "execution_count": 54,
   "id": "ae59b7c1",
   "metadata": {},
   "outputs": [
    {
     "data": {
      "text/plain": [
       "([<matplotlib.axis.XTick at 0x7ff0763a8650>,\n",
       "  <matplotlib.axis.XTick at 0x7ff0763a85d0>,\n",
       "  <matplotlib.axis.XTick at 0x7ff0763abcd0>],\n",
       " [Text(0.5, 0, 'obs'), Text(1.5, 0, 'PMIP3'), Text(2.5, 0, 'PMIP4')])"
      ]
     },
     "execution_count": 54,
     "metadata": {},
     "output_type": "execute_result"
    },
    {
     "data": {
      "image/png": "[encoded data removed]",
      "text/plain": [
       "<Figure size 144x360 with 1 Axes>"
      ]
     },
     "metadata": {
      "needs_background": "light"
     },
     "output_type": "display_data"
    }
   ],
   "source": [
    "# option 1 : plot everything\n",
    "# dot color represents model\n",
    "# red edge means ECS > 5\n",
    "# blue edge means ECS < 2\n",
    "\n",
    "'''Strengths & Problems\n",
    "# Good: include all information\n",
    "# Good: can compare model generations\n",
    "# Bad: include too much informaiton\n",
    "# Bad: patterns are not clear\n",
    "\n",
    "'''\n",
    "plt.figure(figsize=(2,5))\n",
    "plt.xlim([0,3])\n",
    "\n",
    "for m in model_pmip4_mh:\n",
    "    if 2 <= data_pmip4_mh[m][0] <= 5:\n",
    "        plt.plot(2.5,data_pmip4_mh[m][1],marker='o',color=model_color(m,'py'),alpha=0.5, mec='none',ms=10,linestyle='None')\n",
    "    if data_pmip4_mh[m][0] > 5:\n",
    "        plt.plot(2.5,data_pmip4_mh[m][1],marker='o',color=model_color(m,'py'),alpha=0.5,mew=3,mec='r', ms=10,linestyle='None')\n",
    "    if data_pmip4_mh[m][0] < 2:\n",
    "        plt.plot(2.5,data_pmip4_mh[m][1],marker='o',color=model_color(m,'py'),alpha=0.5,mew=3,mec='b', ms=10,linestyle='None')\n",
    "                \n",
    "for m in model_pmip3_mh:\n",
    "    if 2 <= data_pmip3_mh[m][0] <= 5:\n",
    "        plt.plot(1.5,data_pmip3_mh[m][1],marker='o',color=model_color(m,'py'),alpha=0.5, mec='none',ms=10,linestyle='None')\n",
    "    if data_pmip3_mh[m][0] > 5:\n",
    "        plt.plot(1.5,data_pmip3_mh[m][1],marker='o',color=model_color(m,'py'),alpha=0.5,mew=3,mec='r', ms=10,linestyle='None')\n",
    "    if data_pmip3_mh[m][0] < 2:\n",
    "        plt.plot(1.5,data_pmip3_mh[m][1],marker='o',color=model_color(m,'py'),alpha=0.5,mew=3,mec='b', ms=10,linestyle='None')\n",
    "    \n",
    "\n",
    "plt.errorbar([0.5],[obs_mh[1]], yerr=[[obs_mh[1]-obs_mh[0]],[obs_mh[2]-obs_mh[1]]],marker='o',color='k',ms=12)\n",
    "plt.xticks([0.5,1.5,2.5],['obs','PMIP3','PMIP4'],fontsize=12,rotation=90)\n"
   ]
  },
  {
   "cell_type": "code",
   "execution_count": 55,
   "id": "4f8c0419",
   "metadata": {},
   "outputs": [
    {
     "data": {
      "text/plain": [
       "([<matplotlib.axis.XTick at 0x7ff075a17950>,\n",
       "  <matplotlib.axis.XTick at 0x7ff075a17f50>,\n",
       "  <matplotlib.axis.XTick at 0x7ff0754d9e10>],\n",
       " [Text(0.5, 0, 'obs'), Text(1.5, 0, 'PMIP3'), Text(2.5, 0, 'PMIP4')])"
      ]
     },
     "execution_count": 55,
     "metadata": {},
     "output_type": "execute_result"
    },
    {
     "data": {
      "image/png": "[encoded data removed]",
      "text/plain": [
       "<Figure size 144x360 with 1 Axes>"
      ]
     },
     "metadata": {
      "needs_background": "light"
     },
     "output_type": "display_data"
    }
   ],
   "source": [
    "# option 2 : plot everything\n",
    "# dot color represents model\n",
    "# square means ECS > 5\n",
    "# triange edge means ECS < 2\n",
    "\n",
    "'''Strengths & Problems\n",
    "# Good: include all information\n",
    "# Good: can compare model generations\n",
    "# Bad: include too much informaiton\n",
    "# Bad: too many columns\n",
    "\n",
    "'''\n",
    "plt.figure(figsize=(2,5))\n",
    "plt.xlim([0,3])\n",
    "\n",
    "for m in model_pmip4_mh:\n",
    "    if data_pmip4_mh[m][0] > 5:\n",
    "        plt.plot(2.8,data_pmip4_mh[m][1],marker='s',color=model_color(m,'py'),alpha=0.5,mew=3,mec='none', ms=10,linestyle='None')\n",
    "    if data_pmip4_mh[m][0] < 2:\n",
    "        plt.plot(2.2,data_pmip4_mh[m][1],marker='^',color=model_color(m,'py'),alpha=0.5,mew=3,mec='none', ms=10,linestyle='None')\n",
    "    if 2 <= data_pmip4_mh[m][0] <= 5:\n",
    "        plt.plot(2.5,data_pmip4_mh[m][1],marker='o',color=model_color(m,'py'),alpha=0.5, mec='none',ms=10,linestyle='None')\n",
    "                \n",
    "for m in model_pmip3_mh:\n",
    "    if data_pmip3_mh[m][0] > 5:\n",
    "        plt.plot(1.8,data_pmip3_mh[m][1],marker='s',color=model_color(m,'py'),alpha=0.5,mew=3,mec='none', ms=10,linestyle='None')\n",
    "    if data_pmip3_mh[m][0] < 2:\n",
    "        plt.plot(1.2,data_pmip3_mh[m][1],marker='^',color=model_color(m,'py'),alpha=0.5,mew=3,mec='none', ms=10,linestyle='None')\n",
    "    if 2 <= data_pmip3_mh[m][0] <= 5:\n",
    "        plt.plot(1.5,data_pmip3_mh[m][1],marker='o',color=model_color(m,'py'),alpha=0.5, mec='none',ms=10,linestyle='None')\n",
    "\n",
    "\n",
    "plt.errorbar([0.5],[obs_mh[1]], yerr=[[obs_mh[1]-obs_mh[0]],[obs_mh[2]-obs_mh[1]]],marker='o',color='k',ms=12)\n",
    "plt.xticks([0.5,1.5,2.5],['obs','PMIP3','PMIP4'],fontsize=12,rotation=90)"
   ]
  },
  {
   "cell_type": "code",
   "execution_count": 56,
   "id": "a4e568fa",
   "metadata": {},
   "outputs": [
    {
     "data": {
      "text/plain": [
       "([<matplotlib.axis.XTick at 0x7ff07465fa50>,\n",
       "  <matplotlib.axis.XTick at 0x7ff07465f1d0>,\n",
       "  <matplotlib.axis.XTick at 0x7ff07465f790>],\n",
       " [Text(0.5, 0, 'obs'), Text(1.5, 0, 'PMIP3'), Text(2.5, 0, 'PMIP4')])"
      ]
     },
     "execution_count": 56,
     "metadata": {},
     "output_type": "execute_result"
    },
    {
     "data": {
      "image/png": "[encoded data removed]",
      "text/plain": [
       "<Figure size 144x360 with 1 Axes>"
      ]
     },
     "metadata": {
      "needs_background": "light"
     },
     "output_type": "display_data"
    }
   ],
   "source": [
    "\n",
    "plt.figure(figsize=(2,5))\n",
    "plt.xlim([0,3])\n",
    "\n",
    "for m in model_pmip4_mh:\n",
    "    if data_pmip4_mh[m][0] > 5:\n",
    "        plt.plot(2.8,data_pmip4_mh[m][1],marker='x',color=model_color(m,'py'),mew=1, ms=10,linestyle='None')\n",
    "    if data_pmip4_mh[m][0] < 2:\n",
    "        plt.plot(2.2,data_pmip4_mh[m][1],marker='x',color=model_color(m,'py'),mew=1, ms=10,linestyle='None')\n",
    "    if 2 <= data_pmip4_mh[m][0] <= 5:\n",
    "        plt.plot(2.5,data_pmip4_mh[m][1],marker='x',color=model_color(m,'py'), mew=1,ms=10,linestyle='None')\n",
    "                \n",
    "for m in model_pmip3_mh:\n",
    "    if data_pmip3_mh[m][0] > 5:\n",
    "        plt.plot(1.8,data_pmip3_mh[m][1],marker='x',color=model_color(m,'py'),mew=1,ms=10,linestyle='None')\n",
    "    if data_pmip3_mh[m][0] < 2:\n",
    "        plt.plot(1.2,data_pmip3_mh[m][1],marker='x',color=model_color(m,'py'),mew=1, ms=10,linestyle='None')\n",
    "    if 2 <= data_pmip3_mh[m][0] <= 5:\n",
    "        plt.plot(1.5,data_pmip3_mh[m][1],marker='x',color=model_color(m,'py'),mew=1,ms=10,linestyle='None')\n",
    "\n",
    "\n",
    "plt.errorbar([0.5],[obs_mh[1]], yerr=[[obs_mh[1]-obs_mh[0]],[obs_mh[2]-obs_mh[1]]],marker='o',color='k',ms=12)\n",
    "plt.xticks([0.5,1.5,2.5],['obs','PMIP3','PMIP4'],fontsize=12,rotation=90)"
   ]
  },
  {
   "cell_type": "code",
   "execution_count": 43,
   "id": "9763f70c",
   "metadata": {},
   "outputs": [
    {
     "data": {
      "text/plain": [
       "([<matplotlib.axis.XTick at 0x7ff075c68110>,\n",
       "  <matplotlib.axis.XTick at 0x7ff075c68250>],\n",
       " [Text(1.5, 0, 'PMIP3'), Text(2.5, 0, 'PMIP4')])"
      ]
     },
     "execution_count": 43,
     "metadata": {},
     "output_type": "execute_result"
    },
    {
     "data": {
      "image/png": "[encoded data removed]",
      "text/plain": [
       "<Figure size 144x360 with 1 Axes>"
      ]
     },
     "metadata": {
      "needs_background": "light"
     },
     "output_type": "display_data"
    }
   ],
   "source": [
    "plt.figure(figsize=(2,5))\n",
    "plt.xlim([1,3])\n",
    "\n",
    "for m in model_pmip4_mh:\n",
    "    if data_pmip4_mh[m][0] > 5:\n",
    "        plt.plot(2.8,data_pmip4_mh[m][1],marker='x',color=model_color(m,'py'),mew=1, ms=10,linestyle='None')\n",
    "    if data_pmip4_mh[m][0] < 2:\n",
    "        plt.plot(2.2,data_pmip4_mh[m][1],marker='x',color=model_color(m,'py'),mew=1, ms=10,linestyle='None')\n",
    "    if 2 <= data_pmip4_mh[m][0] <= 5:\n",
    "        plt.plot(2.5,data_pmip4_mh[m][1],marker='x',color=model_color(m,'py'), mew=1,ms=10,linestyle='None')\n",
    "                \n",
    "for m in model_pmip3_mh:\n",
    "    if data_pmip3_mh[m][0] > 5:\n",
    "        plt.plot(1.8,data_pmip3_mh[m][1],marker='x',color=model_color(m,'py'),mew=1,ms=10,linestyle='None')\n",
    "    if data_pmip3_mh[m][0] < 2:\n",
    "        plt.plot(1.2,data_pmip3_mh[m][1],marker='x',color=model_color(m,'py'),mew=1, ms=10,linestyle='None')\n",
    "    if 2 <= data_pmip3_mh[m][0] <= 5:\n",
    "        plt.plot(1.5,data_pmip3_mh[m][1],marker='x',color=model_color(m,'py'),mew=1,ms=10,linestyle='None')\n",
    "#obs\n",
    "plt.plot([1,3],[obs_mh[1],obs_mh[1]],'k',lw=2)\n",
    "plt.fill_between([1,3],[0.3,0.3],[0.9,0.9],facecolor='k', alpha=0.1)\n",
    "#plt.errorbar([0.5],[obs_mh[1]], yerr=[[obs_mh[0]],[obs_mh[2]]],marker='o',color='k',ms=12)\n",
    "plt.xticks([1.5,2.5],['PMIP3','PMIP4'],fontsize=12,rotation=90)"
   ]
  },
  {
   "cell_type": "code",
   "execution_count": null,
   "id": "527bf46a",
   "metadata": {},
   "outputs": [],
   "source": []
  }
 ],
 "metadata": {
  "kernelspec": {
   "display_name": "Python 3 (ipykernel)",
   "language": "python",
   "name": "python3"
  },
  "language_info": {
   "codemirror_mode": {
    "name": "ipython",
    "version": 3
   },
   "file_extension": ".py",
   "mimetype": "text/x-python",
   "name": "python",
   "nbconvert_exporter": "python",
   "pygments_lexer": "ipython3",
   "version": "3.7.12"
  }
 },
 "nbformat": 4,
 "nbformat_minor": 5
}
